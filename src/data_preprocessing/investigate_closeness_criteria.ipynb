{
 "cells": [
  {
   "cell_type": "markdown",
   "metadata": {
    "vscode": {
     "languageId": "plaintext"
    }
   },
   "source": [
    "### Abstract\n",
    "\n",
    "In this notebook, we investigate two key network centrality measures: betweenness centrality and closeness centrality. Ideally, these\n",
    "metrics help identify critical road segments for policy intervention. Betweenness centrality quantifies how often a road segment appears on the shortest paths between all location pairs. Closeness centrality measures how efficiently a road segment connects to all other locations. \n",
    "\n",
    "The effectiveness of capacity reduction policies in inducing a mode shift depends on the network role of the affected roads. Roads with high betweenness centrality serve as critical corridors for through traffic. Reducing capacity on these roads can lead to significant rerouting and increased congestion unless alternative high-capacity public transport options are available. In contrast, roads with high closeness centrality are well-connected within the local network, making them better candidates for capacity reductions that encourage active transport. Since these roads primarily serve short-distance trips, reallocating space for cycling and walking is more feasible and can promote mode shift without increasing travel time. However, successful implementation requires ensuring that viable alternatives exist, including dedicated infrastructure for active modes and efficient public transport connections. Thus, high-closeness roads in dense urban areas with multimodal accessibility are optimal targets for capacity reduction policies aimed at sustainable transport transitions.\n",
    "\n",
    "It is therefore a reasonable hypothesis that capacity reductions inducing mode shift should primarily be focused on roads with low betweenness centrality and roads with high closeness centrality. \n",
    "\n",
    "In this notebook, we investigate these measures with real-world data.\n",
    "\n",
    "The steps are the following:\n",
    "1. Load the Munich road network from OpenStreetMap, using osmnx.\n",
    "2. Define and compute centrality measures for road segments.\n",
    "3. Find out how many roads fulfill these criteria: high closeness centraliy and low betweeness centrality. \n",
    "4. Investigate the relationship from this to road types, i.e. primary, secondary, tertiary, etc. Are all road types similarly affect, where are the differences? Investigate the two centrality measures separated.  \n"
   ]
  },
  {
   "cell_type": "markdown",
   "metadata": {},
   "source": []
  }
 ],
 "metadata": {
  "language_info": {
   "name": "python"
  }
 },
 "nbformat": 4,
 "nbformat_minor": 2
}
