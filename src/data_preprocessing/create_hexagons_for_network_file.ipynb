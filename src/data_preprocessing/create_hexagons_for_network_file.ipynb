{
 "cells": [
  {
   "cell_type": "markdown",
   "metadata": {},
   "source": [
    "## Abstract\n",
    "\n",
    "In this notebook, we create hexagons for a network file with the format .xml.gz. \n",
    "\n",
    "The steps are as follows:\n",
    "1. Load the network.xml.gz file\n",
    "2. Create a gdf out of it.\n",
    "3. Implement the hexagons on the gdf level, adding another column \"hexagon\", numbered 1 - n for a city. \n",
    "4. Visualize the hexagons for different hexagon sizes.\n",
    "5. Save the gdfs for hexagons with different sizes. "
   ]
  },
  {
   "cell_type": "code",
   "execution_count": null,
   "metadata": {
    "vscode": {
     "languageId": "plaintext"
    }
   },
   "outputs": [],
   "source": []
  }
 ],
 "metadata": {
  "language_info": {
   "name": "python"
  }
 },
 "nbformat": 4,
 "nbformat_minor": 2
}
